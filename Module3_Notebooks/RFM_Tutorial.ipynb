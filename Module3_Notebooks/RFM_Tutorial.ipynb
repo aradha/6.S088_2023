{
 "cells": [
  {
   "cell_type": "markdown",
   "id": "8d545c0f",
   "metadata": {},
   "source": [
    "Below is a brief tutorial on how to use RFMs.  \n",
    "\n",
    "We provide an implementation of RFMs to fit the following dataset."
   ]
  },
  {
   "cell_type": "code",
   "execution_count": 1,
   "id": "3943780e",
   "metadata": {},
   "outputs": [],
   "source": [
    "import numpy as np\n",
    "\n",
    "# Don't forget to set your random seeds so that experiments are all reproducible\n",
    "SEED = 1717\n",
    "np.random.seed(SEED)\n",
    "\n",
    "d = 100\n",
    "\n",
    "def sample_data(num_samples):\n",
    "    X = np.random.normal(size=(num_samples, d))\n",
    "    y = X[:, 0] * X[:, 1]\n",
    "    return X, y.reshape(-1, 1)\n",
    "\n",
    "n_train, n_test = 2000, 10000\n",
    "X_train, y_train = sample_data(n_train)\n",
    "X_test, y_test = sample_data(n_test)"
   ]
  },
  {
   "cell_type": "markdown",
   "id": "18818052",
   "metadata": {},
   "source": [
    "To train an RFM: \n",
    "\n",
    "1.  Create a model object using the constructor ```RFM()```.\n",
    "2.  Run ```model.fit()```.  \n",
    "\n",
    "This function requires training inputs (X_train) and training labels (y_train).  The optional arguments are as follows: \n",
    "\n",
    "1. ```num_iters```: The number of iterations of running the RFM algorithm (usually 1 or 2 iterations is sufficient). \n",
    "2. ```reg```: The amount of ridge regularization to use when solving kernel regression at each step. Smaller values will lead to fitting training data more accurately. \n",
    "3. ```centering```:  Whether to center gradients before computing the expected gradient outer product (recommend setting this to True). \n",
    "4. ```verbose```: Print time per computation when running RFMs. \n",
    "5. ```diag_only```: Whether to only keep of diagonal entries when updating the feature matrix (recommend setting this to False unless input dimension is very high (greater than 20k).  "
   ]
  },
  {
   "cell_type": "code",
   "execution_count": 8,
   "id": "ad6aaec5",
   "metadata": {},
   "outputs": [],
   "source": [
    "import rfm  \n",
    "\n",
    "\n",
    "# Data should come in as numpy arrays.  \n",
    "# X_train: (num training samples, num features)\n",
    "# y_train: (num training samples, num labels/classes)\n",
    "\n",
    "model = rfm.RFM()\n",
    "model = model.fit(X_train, y_train, num_iters=5, reg=1e-4, \n",
    "                  centering=True, verbose=False, diag_only=False)"
   ]
  },
  {
   "cell_type": "code",
   "execution_count": 9,
   "id": "59133ffd",
   "metadata": {},
   "outputs": [
    {
     "name": "stdout",
     "output_type": "stream",
     "text": [
      "Train R2:  0.999996752594814 Test R2:  0.9231449905104399\n"
     ]
    }
   ],
   "source": [
    "from sklearn.metrics import r2_score\n",
    "\n",
    "rfm_train_preds = model.predict(X_train)\n",
    "rfm_test_preds = model.predict(X_test)\n",
    "rfm_train_r2 = r2_score(y_train, rfm_train_preds)\n",
    "rfm_test_r2 = r2_score(y_test, rfm_test_preds)\n",
    "print(\"Train R2: \", rfm_train_r2, \"Test R2: \", rfm_test_r2)"
   ]
  },
  {
   "cell_type": "markdown",
   "id": "5801313d",
   "metadata": {},
   "source": [
    "After training, you can use the ```model.get_M()``` function to get a matrix that shows which features are most relevant for prediction.  Below, we will see that only the top two diagonal elements are highlighted, indicating that these are the most important feautres.  This makes sense since our target function is of the form $f^*(x) = x_1 x_2$. "
   ]
  },
  {
   "cell_type": "code",
   "execution_count": 11,
   "id": "7a1cc56a",
   "metadata": {},
   "outputs": [
    {
     "data": {
      "image/png": "[encoded data removed]",
      "text/plain": [
       "<Figure size 640x480 with 1 Axes>"
      ]
     },
     "metadata": {},
     "output_type": "display_data"
    },
    {
     "data": {
      "image/png": "[encoded data removed]",
      "text/plain": [
       "<Figure size 640x480 with 1 Axes>"
      ]
     },
     "metadata": {},
     "output_type": "display_data"
    }
   ],
   "source": [
    "import matplotlib.pyplot as plt\n",
    "\n",
    "M = model.get_M()\n",
    "plt.imshow(M, cmap='gray')\n",
    "plt.show()\n",
    "\n",
    "plt.imshow(M[:10, :10], cmap='gray')\n",
    "plt.show()"
   ]
  }
 ],
 "metadata": {
  "kernelspec": {
   "display_name": "Python 3 (ipykernel)",
   "language": "python",
   "name": "python3"
  },
  "language_info": {
   "codemirror_mode": {
    "name": "ipython",
    "version": 3
   },
   "file_extension": ".py",
   "mimetype": "text/x-python",
   "name": "python",
   "nbconvert_exporter": "python",
   "pygments_lexer": "ipython3",
   "version": "3.7.15"
  }
 },
 "nbformat": 4,
 "nbformat_minor": 5
}
