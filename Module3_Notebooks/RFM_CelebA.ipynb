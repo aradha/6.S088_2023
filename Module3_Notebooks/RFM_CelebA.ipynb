{
 "cells": [
  {
   "cell_type": "code",
   "execution_count": 5,
   "id": "2887e339",
   "metadata": {},
   "outputs": [
    {
     "name": "stdout",
     "output_type": "stream",
     "text": [
      "Files already downloaded and verified\n"
     ]
    },
    {
     "name": "stderr",
     "output_type": "stream",
     "text": [
      "  6%|███▉                                                            | 10001/162770 [00:07<01:52, 1362.52it/s]"
     ]
    },
    {
     "name": "stdout",
     "output_type": "stream",
     "text": [
      "Train Size:  7715 Val Size:  1929\n"
     ]
    },
    {
     "name": "stderr",
     "output_type": "stream",
     "text": [
      "\n"
     ]
    }
   ],
   "source": [
    "import torch\n",
    "import torchvision\n",
    "import torchvision.transforms as transforms\n",
    "from torch.utils.data import Dataset\n",
    "import random\n",
    "import torch.backends.cudnn as cudnn\n",
    "import numpy as np\n",
    "from tqdm import tqdm\n",
    "from sklearn.model_selection import train_test_split\n",
    "from torch.linalg import norm\n",
    "\n",
    "NUM_CLASSES = 2\n",
    "SEED = 5636\n",
    "torch.manual_seed(SEED)\n",
    "np.random.seed(SEED)\n",
    "random.seed(SEED)\n",
    "torch.cuda.manual_seed(SEED)\n",
    "cudnn.benchmark = True\n",
    "\n",
    "def get_balanced_data(dataset, num_samples=None):\n",
    "\n",
    "    if num_samples is None:\n",
    "        num_samples = len(dataset)\n",
    "\n",
    "    # Make balanced classes\n",
    "    labelset = {}\n",
    "    for i in range(NUM_CLASSES):\n",
    "        one_hot = torch.zeros(NUM_CLASSES)\n",
    "        one_hot[i] = 1\n",
    "        labelset[i] = one_hot\n",
    "\n",
    "    # All attributes found in list_attr_celeba.txt\n",
    "    feature_idx = 31  # Index of feature label - 15 corresponds to glasses, 31 is smiling\n",
    "    by_class = {}\n",
    "    features = []\n",
    "    for idx in tqdm(range(len(dataset))):\n",
    "        if idx > 10000:\n",
    "            break\n",
    "        ex, label = dataset[idx]\n",
    "        features.append(label[feature_idx])\n",
    "        g = label[feature_idx].numpy().item()\n",
    "        ex = ex.flatten()\n",
    "        ex = ex / norm(ex)\n",
    "        if g in by_class:\n",
    "            by_class[g].append((ex, labelset[g]))\n",
    "        else:\n",
    "            by_class[g] = [(ex, labelset[g])]\n",
    "        if idx > num_samples:\n",
    "            break\n",
    "    data = []\n",
    "    max_len = min(25000, len(by_class[1]))\n",
    "\n",
    "    data.extend(by_class[1][:max_len])\n",
    "    data.extend(by_class[0][:max_len])\n",
    "    return data\n",
    "\n",
    "def split(trainset, p=.8):\n",
    "    train, val = train_test_split(trainset, train_size=p)\n",
    "    return train, val\n",
    "\n",
    "\n",
    "SIZE = 64\n",
    "transform = transforms.Compose(\n",
    "    [transforms.Resize([SIZE,SIZE]),\n",
    "     transforms.ToTensor()\n",
    "    ])\n",
    "\n",
    "celeba_path = 'datasets/'\n",
    "trainset = torchvision.datasets.CelebA(root=celeba_path,\n",
    "                                       split='train',\n",
    "                                       transform=transform,\n",
    "                                       download=True)\n",
    "\n",
    "trainset = get_balanced_data(trainset)\n",
    "trainset, valset = split(trainset, p=.8)\n",
    "\n",
    "print(\"Train Size: \", len(trainset), \"Val Size: \", len(valset))"
   ]
  },
  {
   "cell_type": "code",
   "execution_count": 6,
   "id": "0ddb77cf",
   "metadata": {},
   "outputs": [
    {
     "name": "stdout",
     "output_type": "stream",
     "text": [
      "(7715, 12288) (7715, 2)\n",
      "(1929, 12288) (1929, 2)\n"
     ]
    }
   ],
   "source": [
    "train_loader = torch.utils.data.DataLoader(trainset, batch_size=128,\n",
    "                                          shuffle=True, num_workers=1)\n",
    "\n",
    "val_loader = torch.utils.data.DataLoader(valset, batch_size=100,\n",
    "                                        shuffle=False, num_workers=1)\n",
    "\n",
    "def get_data(loader):\n",
    "    X = []\n",
    "    y = []\n",
    "    for idx, batch in enumerate(loader):\n",
    "        inputs, labels = batch\n",
    "        X.append(inputs)\n",
    "        y.append(labels)\n",
    "    return torch.cat(X, dim=0).numpy(), torch.cat(y, dim=0).numpy()\n",
    "\n",
    "X_train, y_train = get_data(train_loader)\n",
    "X_val, y_val = get_data(val_loader)\n",
    "print(X_train.shape, y_train.shape)\n",
    "print(X_val.shape, y_val.shape)"
   ]
  },
  {
   "cell_type": "code",
   "execution_count": 7,
   "id": "72106482",
   "metadata": {},
   "outputs": [
    {
     "name": "stdout",
     "output_type": "stream",
     "text": [
      "Starting Iteration: 0\n",
      "Solved Kernel Regression in 8.054327011108398 seconds.\n",
      "Computed Gradients in 24.88850998878479 seconds.\n"
     ]
    },
    {
     "name": "stderr",
     "output_type": "stream",
     "text": [
      "100%|█████████████████████████████████████████████████████████████████████| 101/101 [00:00<00:00, 1211.33it/s]"
     ]
    },
    {
     "name": "stdout",
     "output_type": "stream",
     "text": [
      "Computed EGOP in 0.10148310661315918 seconds.\n",
      "===============================================================\n"
     ]
    },
    {
     "name": "stderr",
     "output_type": "stream",
     "text": [
      "\n"
     ]
    },
    {
     "name": "stdout",
     "output_type": "stream",
     "text": [
      "Solved Final Kernel Regression in 8.042137861251831 seconds.\n"
     ]
    }
   ],
   "source": [
    "import rfm  \n",
    "\n",
    "model = rfm.RFM()\n",
    "model = model.fit(X_train[:2000], y_train[:2000], num_iters=1, reg=0, \n",
    "                  centering=True, verbose=True, diag_only=True)"
   ]
  },
  {
   "cell_type": "code",
   "execution_count": 10,
   "id": "d0eb258c",
   "metadata": {},
   "outputs": [
    {
     "name": "stdout",
     "output_type": "stream",
     "text": [
      "(64, 64, 3)\n"
     ]
    },
    {
     "data": {
      "image/png": "[encoded data removed]",
      "text/plain": [
       "<Figure size 640x480 with 1 Axes>"
      ]
     },
     "metadata": {},
     "output_type": "display_data"
    }
   ],
   "source": [
    "import matplotlib.pyplot as plt\n",
    "\n",
    "M = model.get_M()\n",
    "diag = np.diag(M).reshape(3, SIZE, SIZE)\n",
    "diag = np.rollaxis(diag, 0, 3)\n",
    "diag = (diag - diag.min()) / (diag.max() - diag.min())\n",
    "print(diag.shape)\n",
    "plt.imshow(diag)\n",
    "plt.show()"
   ]
  },
  {
   "cell_type": "code",
   "execution_count": null,
   "id": "75a6ffa6",
   "metadata": {},
   "outputs": [],
   "source": [
    "testset = torchvision.datasets.CelebA(root=celeba_path,\n",
    "                                      split='test',\n",
    "                                      transform=transform,\n",
    "                                      download=True)\n",
    "\n",
    "testset = get_balanced_data(testset)\n",
    "print(\"Test Size: \", len(testset))\n",
    "\n",
    "test_loader = torch.utils.data.DataLoader(testset, batch_size=512,\n",
    "                                         shuffle=False, num_workers=1)\n",
    "X_test, y_test = get_data(test_loader)\n",
    "print(X_test.shape, y_test.shape)"
   ]
  }
 ],
 "metadata": {
  "kernelspec": {
   "display_name": "Python 3 (ipykernel)",
   "language": "python",
   "name": "python3"
  },
  "language_info": {
   "codemirror_mode": {
    "name": "ipython",
    "version": 3
   },
   "file_extension": ".py",
   "mimetype": "text/x-python",
   "name": "python",
   "nbconvert_exporter": "python",
   "pygments_lexer": "ipython3",
   "version": "3.7.15"
  }
 },
 "nbformat": 4,
 "nbformat_minor": 5
}
