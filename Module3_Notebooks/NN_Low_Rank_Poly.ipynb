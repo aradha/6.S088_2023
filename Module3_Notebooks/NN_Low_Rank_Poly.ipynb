{
 "cells": [
  {
   "cell_type": "markdown",
   "id": "4e5ee1b9",
   "metadata": {},
   "source": [
    "## An Illuminating Example \n",
    "\n",
    "Let us consider the following toy dataset below where we have $x \\in \\mathbb{R}^{100}$ and $f^*(x) = x_1 x_2$.  This is known as a low-rank polynomial and more generally can be thought of as a function of the form $f^*(x) = g(U^T x)$.  In our example below, $U \\in \\mathbb{R}^{100 \\times 2}$ with $U^T = \\begin{bmatrix} 1 &  0 &  0 & \\ldots &  0 \\\\ 0 &  1 &  0 & \\ldots &  0 \\end{bmatrix}$ and $g: \\mathbb{R}^{2} \\to \\mathbb{R}$ with $g(u, v) = uv $."
   ]
  },
  {
   "cell_type": "code",
   "execution_count": 1,
   "id": "1e6a9d8f",
   "metadata": {},
   "outputs": [],
   "source": [
    "import numpy as np\n",
    "\n",
    "# Don't forget to set your random seeds so that experiments are all reproducible\n",
    "SEED = 1717\n",
    "np.random.seed(SEED)\n",
    "\n",
    "d = 100\n",
    "\n",
    "def sample_data(num_samples):\n",
    "    X = np.random.normal(size=(num_samples, d))\n",
    "    y = X[:, 0] * X[:, 1]\n",
    "    return X, y.reshape(-1, 1)\n",
    "\n",
    "n_train, n_test = 2000, 10000\n",
    "X_train, y_train = sample_data(n_train)\n",
    "X_test, y_test = sample_data(n_test)"
   ]
  },
  {
   "cell_type": "markdown",
   "id": "6c6d0e09",
   "metadata": {},
   "source": [
    "### Train Laplace Kernel on the above dataset\n",
    "\n",
    "Below, we solve kernel regression using the Laplace kernel on this dataset. "
   ]
  },
  {
   "cell_type": "code",
   "execution_count": 2,
   "id": "e31bca21",
   "metadata": {},
   "outputs": [],
   "source": [
    "from numpy.linalg import solve \n",
    "\n",
    "def euclidean_distances(samples, centers, squared=True):\n",
    "    samples_norm = np.sum(samples**2, axis=1, keepdims=True)\n",
    "    if samples is centers:\n",
    "        centers_norm = samples_norm\n",
    "    else:\n",
    "        centers_norm = np.sum(centers**2, axis=1, keepdims=True)\n",
    "    centers_norm = np.reshape(centers_norm, (1, -1))\n",
    "    distances = samples @ centers.T\n",
    "    distances *= -2\n",
    "    distances = distances + samples_norm + centers_norm\n",
    "    if not squared:\n",
    "        distances = np.where(distances < 0, 0, distances)\n",
    "        distances = np.sqrt(distances)\n",
    "\n",
    "    return distances\n",
    "\n",
    "def laplacian(samples, centers, bandwidth):\n",
    "    assert bandwidth > 0\n",
    "    kernel_mat = euclidean_distances(samples, centers, squared=False)\n",
    "    kernel_mat = np.where(kernel_mat < 0, 0, kernel_mat)\n",
    "    gamma = 1. / bandwidth\n",
    "    kernel_mat *= -gamma\n",
    "    kernel_mat = np.exp(kernel_mat)\n",
    "    return kernel_mat\n",
    "\n",
    "class LaplaceKernel():\n",
    "\n",
    "    def __init__(self, L=10):\n",
    "        self.sol = None\n",
    "        self.L = L\n",
    "        self.X_train = None\n",
    "\n",
    "    def fit(self, X, y, reg=0):\n",
    "        self.X_train = X\n",
    "        K = laplacian(X, X, self.L)\n",
    "        sol = solve(K + reg * np.eye(len(K)), y).T\n",
    "        self.sol = sol\n",
    "        return self\n",
    "\n",
    "    def predict(self, X):\n",
    "        K = laplacian(self.X_train, X, self.L)\n",
    "        return (self.sol @ K).T"
   ]
  },
  {
   "cell_type": "code",
   "execution_count": 3,
   "id": "393ea9e4",
   "metadata": {},
   "outputs": [
    {
     "name": "stdout",
     "output_type": "stream",
     "text": [
      "Train R2:  1.0 Test R2:  0.07896651498580398\n"
     ]
    }
   ],
   "source": [
    "from sklearn.metrics import r2_score\n",
    "\n",
    "model = LaplaceKernel()\n",
    "model = model.fit(X_train, y_train, reg=0)\n",
    "lap_train_preds = model.predict(X_train)\n",
    "lap_test_preds = model.predict(X_test)\n",
    "lap_train_r2 = r2_score(y_train, lap_train_preds)\n",
    "lap_test_r2 = r2_score(y_test, lap_test_preds)\n",
    "print(\"Train R2: \", lap_train_r2, \"Test R2: \", lap_test_r2)"
   ]
  },
  {
   "cell_type": "markdown",
   "id": "339eba79",
   "metadata": {},
   "source": [
    "We observe an unusally low test $R^2$.  What is going on and did we make a mistake somewhere?\n",
    "\n",
    "A good sign that we did not make a mistake is that the training $R^2$ is $1$.  Moreover, there are only two steps in the above code - ```model.fit``` and ```model.predict```.  Let us now train another model to see if performance improves.  "
   ]
  },
  {
   "cell_type": "markdown",
   "id": "06087658",
   "metadata": {},
   "source": [
    "### Training a Fully Connected Neural Network on the above dataset\n",
    "\n",
    "Below we train a 1 hidden layer FCNN with no bias term on the above samples."
   ]
  },
  {
   "cell_type": "code",
   "execution_count": 4,
   "id": "63199fd0",
   "metadata": {},
   "outputs": [],
   "source": [
    "import torch\n",
    "from torch.utils.data import DataLoader\n",
    "\n",
    "X_train = torch.from_numpy(X_train)\n",
    "y_train = torch.from_numpy(y_train)\n",
    "X_test = torch.from_numpy(X_test)\n",
    "y_test = torch.from_numpy(y_test)\n",
    "\n",
    "trainset = list(zip(X_train, y_train))\n",
    "testset = list(zip(X_test, y_test))"
   ]
  },
  {
   "cell_type": "code",
   "execution_count": 5,
   "id": "1c9b0c7a",
   "metadata": {},
   "outputs": [],
   "source": [
    "# Set up data loaders for training neural networks\n",
    "train_loader = DataLoader(trainset, batch_size=128, shuffle=False, num_workers=1)\n",
    "test_loader = DataLoader(testset, batch_size=128, shuffle=False, num_workers=1)"
   ]
  },
  {
   "cell_type": "code",
   "execution_count": 6,
   "id": "0fcf5ddb",
   "metadata": {},
   "outputs": [],
   "source": [
    "import torch.nn as nn\n",
    "import torch.nn.functional as F\n",
    "\n",
    "# I typically abstract away nonlinearity so that I can change it easily if needed\n",
    "class Nonlinearity(nn.Module):\n",
    "    def __init__(self):\n",
    "        super(Nonlinearity, self).__init__()\n",
    "\n",
    "    def forward(self, x):\n",
    "        return F.relu(x)\n",
    "\n",
    "# Build a simple 1 hidden layer FC net.  \n",
    "class Net(nn.Module):\n",
    "\n",
    "    def __init__(self, input_dim, target_dim):\n",
    "        super(Net, self).__init__()\n",
    "        bias = False\n",
    "        k = 128\n",
    "        self.input_dim = input_dim\n",
    "        self.target_dim = target_dim\n",
    "        self.width = k\n",
    "        self.first = nn.Linear(input_dim, k, bias=bias)\n",
    "        self.last = nn.Linear(k, target_dim, bias=bias)\n",
    "\n",
    "    def forward(self, x):\n",
    "        return self.last(F.relu(self.first(x)))"
   ]
  },
  {
   "cell_type": "markdown",
   "id": "a77cecc6",
   "metadata": {},
   "source": [
    "### Questions Regarding Neural Networks\n",
    "\n",
    "Which of the following settings do you think will give the best results with the default initialization?\n",
    "\n",
    "1. Training all layers\n",
    "2. Training the first layer only\n",
    "3. Training the last layer only\n",
    "\n",
    "\n",
    "Which of the following settings do you think will give the best results when training all layers? \n",
    "\n",
    "1. Using the default initialization\n",
    "2. Using near zero initialization in the first layer\n",
    "3. Using near zero initialization in the last layer\n",
    "\n",
    "Let's find out."
   ]
  },
  {
   "cell_type": "code",
   "execution_count": 36,
   "id": "a3c8cc8b",
   "metadata": {},
   "outputs": [],
   "source": [
    "from torch.autograd import Variable\n",
    "import torch.optim as optim\n",
    "from tqdm import tqdm \n",
    "\n",
    "def train_network(trainloader, testloader, num_epochs=100):\n",
    "\n",
    "    for idx, batch in enumerate(train_loader):\n",
    "        inputs, labels = batch\n",
    "        _, input_dim = inputs.shape\n",
    "        _, output_dim = labels.shape\n",
    "        break       \n",
    "        \n",
    "    net = Net(input_dim, output_dim)\n",
    "    \n",
    "    for idx, param in enumerate(net.parameters()):\n",
    "        if idx == 0:\n",
    "            init = torch.Tensor(param.size()).normal_().float() * 1e-3\n",
    "            param.data = init    \n",
    "    \n",
    "    net.double()\n",
    "    optimizer = torch.optim.SGD(net.parameters(), lr=1e-1)\n",
    "    \n",
    "    train_losses = []\n",
    "    test_losses = []\n",
    "    \n",
    "    for t in tqdm(range(num_epochs)):\n",
    "        train_loss = train_step(net, optimizer, train_loader)\n",
    "        test_loss = test_step(net, test_loader)\n",
    "        train_losses.append(train_loss)\n",
    "        test_losses.append(test_loss)\n",
    "    return net, train_losses, test_losses\n",
    "        \n",
    "def train_step(net, optimizer, train_loader):\n",
    "    net.train()\n",
    "    criterion = torch.nn.MSELoss(reduction='mean')\n",
    "    train_loss = 0.\n",
    "    for batch_idx, batch in enumerate(train_loader):    \n",
    "        optimizer.zero_grad()\n",
    "        inputs, targets = batch \n",
    "        output = net(Variable(inputs))\n",
    "        loss = criterion(output, targets)\n",
    "        loss.backward()\n",
    "        optimizer.step()\n",
    "        train_loss += loss.cpu().data.numpy() * len(inputs)\n",
    "    train_loss = train_loss / len(train_loader.dataset)\n",
    "    return train_loss\n",
    "\n",
    "def test_step(net, test_loader):\n",
    "    net.eval()\n",
    "    criterion = torch.nn.MSELoss(reduction='mean')\n",
    "    test_loss = 0.\n",
    "    for batch_idx, batch in enumerate(test_loader):    \n",
    "        inputs, targets = batch \n",
    "        with torch.no_grad():\n",
    "            output = net(Variable(inputs))\n",
    "        loss = criterion(output, targets)\n",
    "        test_loss += loss.cpu().data.numpy() * len(inputs)\n",
    "    test_loss = test_loss / len(test_loader.dataset)\n",
    "    return test_loss"
   ]
  },
  {
   "cell_type": "code",
   "execution_count": 37,
   "id": "7c8f79f0",
   "metadata": {},
   "outputs": [
    {
     "name": "stderr",
     "output_type": "stream",
     "text": [
      "100%|█████████████████████████████████████████████████████████████████████████| 50/50 [00:09<00:00,  5.49it/s]\n"
     ]
    }
   ],
   "source": [
    "num_epochs = 50\n",
    "net, train_losses, test_losses = train_network(train_loader, test_loader, num_epochs=num_epochs)"
   ]
  },
  {
   "cell_type": "markdown",
   "id": "7f5cb1da",
   "metadata": {},
   "source": [
    "After training, we visualize the loss below. "
   ]
  },
  {
   "cell_type": "code",
   "execution_count": 38,
   "id": "af0577e1",
   "metadata": {},
   "outputs": [
    {
     "data": {
      "image/png": "[encoded data removed]",
      "text/plain": [
       "<Figure size 640x480 with 1 Axes>"
      ]
     },
     "metadata": {},
     "output_type": "display_data"
    }
   ],
   "source": [
    "import matplotlib.pyplot as plt\n",
    "epochs = list(range(num_epochs))\n",
    "plt.plot(epochs, train_losses, 'k--', label='Train Loss')\n",
    "plt.plot(epochs, test_losses, 'k-', label='Test Loss')\n",
    "plt.legend()\n",
    "plt.show()"
   ]
  },
  {
   "cell_type": "code",
   "execution_count": 39,
   "id": "a759c82e",
   "metadata": {},
   "outputs": [],
   "source": [
    "def get_preds(net, loader):\n",
    "    xs = []\n",
    "    ys = []\n",
    "    for batch_idx, batch in enumerate(loader):\n",
    "        inputs, targets = batch\n",
    "        with torch.no_grad():\n",
    "            outputs = net(inputs)\n",
    "            xs.append(inputs)\n",
    "            ys.append(outputs)\n",
    "    xs = torch.cat(xs, axis=0)\n",
    "    ys = torch.cat(ys, axis=0)\n",
    "    return xs.numpy(), ys.numpy()"
   ]
  },
  {
   "cell_type": "code",
   "execution_count": 40,
   "id": "7f0a7bf8",
   "metadata": {},
   "outputs": [
    {
     "name": "stdout",
     "output_type": "stream",
     "text": [
      "Train R2:  0.9964109401941462 Test R2:  0.9028159210946569\n"
     ]
    }
   ],
   "source": [
    "from sklearn.metrics import r2_score\n",
    "\n",
    "train_x, train_preds = get_preds(net, train_loader)\n",
    "test_x, test_preds = get_preds(net, test_loader)\n",
    "train_r2 = r2_score(y_train, train_preds)\n",
    "test_r2 = r2_score(y_test, test_preds)\n",
    "print(\"Train R2: \", train_r2, \"Test R2: \", test_r2)"
   ]
  },
  {
   "cell_type": "markdown",
   "id": "20d4ad89",
   "metadata": {},
   "source": [
    "## Feature Learning in Neural Networks\n",
    "\n",
    "At this point there are two questions: \n",
    "\n",
    "1. Why is the Neural Network doing better than the Laplace Kernel? \n",
    "2. Why does lowering the scale of initialization lead to better results? \n"
   ]
  },
  {
   "cell_type": "code",
   "execution_count": 41,
   "id": "4f8dbbf2",
   "metadata": {},
   "outputs": [
    {
     "data": {
      "image/png": "[encoded data removed]",
      "text/plain": [
       "<Figure size 640x480 with 1 Axes>"
      ]
     },
     "metadata": {},
     "output_type": "display_data"
    }
   ],
   "source": [
    "for idx, p in enumerate(net.parameters()):\n",
    "    if idx == 0:\n",
    "        B = p.data.numpy()\n",
    "M = B.T @ B\n",
    "\n",
    "M = (M - M.min()) / (M.max() - M.min())\n",
    "plt.imshow(M, cmap='gray')\n",
    "plt.show()"
   ]
  },
  {
   "cell_type": "code",
   "execution_count": 42,
   "id": "860d5842",
   "metadata": {},
   "outputs": [
    {
     "data": {
      "image/png": "[encoded data removed]",
      "text/plain": [
       "<Figure size 640x480 with 2 Axes>"
      ]
     },
     "metadata": {},
     "output_type": "display_data"
    }
   ],
   "source": [
    "plt.imshow(M[:10, :10], cmap='gray')\n",
    "plt.colorbar()\n",
    "plt.show()"
   ]
  },
  {
   "cell_type": "markdown",
   "id": "36a8b6b8",
   "metadata": {},
   "source": [
    "## Laplace Kernel on subset features\n",
    "\n",
    "We saw earlier that Laplace kernel was performing far worse than the neural net.  This is because the neural net was able to subset down to the relevant coordinates in the first layer.  Indeed, if we train a Laplace kernel on just the relevant features, we perform extremely well.  Thus, the natural next question is how is the neural network learning to subset to relevant features?"
   ]
  },
  {
   "cell_type": "code",
   "execution_count": 43,
   "id": "2f29436d",
   "metadata": {},
   "outputs": [
    {
     "name": "stdout",
     "output_type": "stream",
     "text": [
      "Train R2:  1.0 Test R2:  0.9971272021690015\n"
     ]
    }
   ],
   "source": [
    "model = LaplaceKernel()\n",
    "model = model.fit(X_train.numpy()[:, :2], y_train.numpy(), reg=0)\n",
    "lap_train_preds = model.predict(X_train.numpy()[:, :2])\n",
    "lap_test_preds = model.predict(X_test.numpy()[:, :2])\n",
    "lap_train_r2 = r2_score(y_train, lap_train_preds)\n",
    "lap_test_r2 = r2_score(y_test, lap_test_preds)\n",
    "print(\"Train R2: \", lap_train_r2, \"Test R2: \", lap_test_r2)"
   ]
  },
  {
   "cell_type": "markdown",
   "id": "63e2e6c6",
   "metadata": {},
   "source": [
    "## RFM \n",
    "\n",
    "We now compare the performance and features learned by RFMs with those of previous models."
   ]
  },
  {
   "cell_type": "code",
   "execution_count": 44,
   "id": "6c5fb326",
   "metadata": {},
   "outputs": [
    {
     "name": "stdout",
     "output_type": "stream",
     "text": [
      "Train R2:  1.0 Test R2:  0.9056830689492937\n"
     ]
    }
   ],
   "source": [
    "import rfm  \n",
    "\n",
    "model = rfm.RFM()\n",
    "model = model.fit(X_train.numpy(), y_train.numpy(), num_iters=2, reg=0, \n",
    "                  centering=True, verbose=False, diag_only=False)\n",
    "rfm_train_preds = model.predict(X_train.numpy())\n",
    "rfm_test_preds = model.predict(X_test.numpy())\n",
    "rfm_train_r2 = r2_score(y_train, rfm_train_preds)\n",
    "rfm_test_r2 = r2_score(y_test, rfm_test_preds)\n",
    "print(\"Train R2: \", rfm_train_r2, \"Test R2: \", rfm_test_r2)"
   ]
  },
  {
   "cell_type": "code",
   "execution_count": 45,
   "id": "7ff48aee",
   "metadata": {},
   "outputs": [
    {
     "data": {
      "image/png": "[encoded data removed]",
      "text/plain": [
       "<Figure size 640x480 with 1 Axes>"
      ]
     },
     "metadata": {},
     "output_type": "display_data"
    }
   ],
   "source": [
    "M = model.get_M()\n",
    "plt.imshow(M, cmap='gray')\n",
    "plt.show()"
   ]
  },
  {
   "cell_type": "code",
   "execution_count": 46,
   "id": "8b004628",
   "metadata": {},
   "outputs": [
    {
     "data": {
      "image/png": "[encoded data removed]",
      "text/plain": [
       "<Figure size 640x480 with 1 Axes>"
      ]
     },
     "metadata": {},
     "output_type": "display_data"
    }
   ],
   "source": [
    "plt.imshow(M[:10, :10], cmap='gray')\n",
    "plt.show()"
   ]
  },
  {
   "cell_type": "code",
   "execution_count": null,
   "id": "ec8a254e",
   "metadata": {},
   "outputs": [],
   "source": []
  }
 ],
 "metadata": {
  "kernelspec": {
   "display_name": "Python 3 (ipykernel)",
   "language": "python",
   "name": "python3"
  },
  "language_info": {
   "codemirror_mode": {
    "name": "ipython",
    "version": 3
   },
   "file_extension": ".py",
   "mimetype": "text/x-python",
   "name": "python",
   "nbconvert_exporter": "python",
   "pygments_lexer": "ipython3",
   "version": "3.7.15"
  }
 },
 "nbformat": 4,
 "nbformat_minor": 5
}
