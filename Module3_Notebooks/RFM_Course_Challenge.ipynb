{
 "cells": [
  {
   "cell_type": "code",
   "execution_count": 1,
   "id": "9b5e79bb",
   "metadata": {},
   "outputs": [
    {
     "name": "stdout",
     "output_type": "stream",
     "text": [
      "Training Data:  (5000, 50) (5000, 1) (5000, 50) (5000, 1)\n"
     ]
    }
   ],
   "source": [
    "import numpy as np\n",
    "\n",
    "X_train = np.loadtxt(\"X_train.csv\",\n",
    "                     delimiter=\",\", dtype='float64')\n",
    "X_val = np.loadtxt(\"X_val.csv\",\n",
    "                   delimiter=\",\", dtype='float64')\n",
    "X_test = np.loadtxt(\"X_test.csv\",\n",
    "                     delimiter=\",\", dtype='float64')\n",
    "y_train = np.loadtxt(\"y_train.csv\",\n",
    "                     delimiter=\",\", dtype='float64').reshape(-1, 1)\n",
    "y_val = np.loadtxt(\"y_val.csv\",\n",
    "                   delimiter=\",\", dtype='float64').reshape(-1, 1)\n",
    "y_test = np.loadtxt(\"y_test.csv\",\n",
    "                    delimiter=\",\", dtype='float64').reshape(-1, 1)\n",
    "\n",
    "print(\"Training Data: \", X_train.shape, y_train.shape, X_test.shape, y_test.shape)"
   ]
  },
  {
   "cell_type": "code",
   "execution_count": 2,
   "id": "57ebf68d",
   "metadata": {},
   "outputs": [
    {
     "name": "stdout",
     "output_type": "stream",
     "text": [
      "Starting Iteration: 0\n",
      "Solved Kernel Regression in 1.539015769958496 seconds.\n",
      "Computed Gradients in 1.1044368743896484 seconds.\n"
     ]
    },
    {
     "name": "stderr",
     "output_type": "stream",
     "text": [
      "100%|████████████████████████████████████████████████████████████████████| 251/251 [00:00<00:00, 11641.31it/s]"
     ]
    },
    {
     "name": "stdout",
     "output_type": "stream",
     "text": [
      "Computed EGOP in 0.024164915084838867 seconds.\n",
      "===============================================================\n",
      "Starting Iteration: 1\n"
     ]
    },
    {
     "name": "stderr",
     "output_type": "stream",
     "text": [
      "\n"
     ]
    },
    {
     "name": "stdout",
     "output_type": "stream",
     "text": [
      "Solved Kernel Regression in 1.5274779796600342 seconds.\n",
      "Computed Gradients in 1.1096441745758057 seconds.\n"
     ]
    },
    {
     "name": "stderr",
     "output_type": "stream",
     "text": [
      "100%|████████████████████████████████████████████████████████████████████| 251/251 [00:00<00:00, 11389.92it/s]"
     ]
    },
    {
     "name": "stdout",
     "output_type": "stream",
     "text": [
      "Computed EGOP in 0.023934125900268555 seconds.\n",
      "===============================================================\n",
      "Starting Iteration: 2\n"
     ]
    },
    {
     "name": "stderr",
     "output_type": "stream",
     "text": [
      "\n"
     ]
    },
    {
     "name": "stdout",
     "output_type": "stream",
     "text": [
      "Solved Kernel Regression in 1.4474639892578125 seconds.\n",
      "Computed Gradients in 1.10329270362854 seconds.\n"
     ]
    },
    {
     "name": "stderr",
     "output_type": "stream",
     "text": [
      "100%|████████████████████████████████████████████████████████████████████| 251/251 [00:00<00:00, 11684.85it/s]"
     ]
    },
    {
     "name": "stdout",
     "output_type": "stream",
     "text": [
      "Computed EGOP in 0.02339005470275879 seconds.\n",
      "===============================================================\n",
      "Starting Iteration: 3\n"
     ]
    },
    {
     "name": "stderr",
     "output_type": "stream",
     "text": [
      "\n"
     ]
    },
    {
     "name": "stdout",
     "output_type": "stream",
     "text": [
      "Solved Kernel Regression in 1.4886071681976318 seconds.\n",
      "Computed Gradients in 1.1132352352142334 seconds.\n"
     ]
    },
    {
     "name": "stderr",
     "output_type": "stream",
     "text": [
      "100%|████████████████████████████████████████████████████████████████████| 251/251 [00:00<00:00, 11437.06it/s]"
     ]
    },
    {
     "name": "stdout",
     "output_type": "stream",
     "text": [
      "Computed EGOP in 0.02383708953857422 seconds.\n",
      "===============================================================\n",
      "Starting Iteration: 4\n"
     ]
    },
    {
     "name": "stderr",
     "output_type": "stream",
     "text": [
      "\n"
     ]
    },
    {
     "name": "stdout",
     "output_type": "stream",
     "text": [
      "Solved Kernel Regression in 1.6433119773864746 seconds.\n",
      "Computed Gradients in 1.1161220073699951 seconds.\n"
     ]
    },
    {
     "name": "stderr",
     "output_type": "stream",
     "text": [
      "100%|████████████████████████████████████████████████████████████████████| 251/251 [00:00<00:00, 11542.77it/s]"
     ]
    },
    {
     "name": "stdout",
     "output_type": "stream",
     "text": [
      "Computed EGOP in 0.024013996124267578 seconds.\n",
      "===============================================================\n"
     ]
    },
    {
     "name": "stderr",
     "output_type": "stream",
     "text": [
      "\n"
     ]
    },
    {
     "name": "stdout",
     "output_type": "stream",
     "text": [
      "Solved Final Kernel Regression in 1.4018840789794922 seconds.\n"
     ]
    }
   ],
   "source": [
    "import rfm  \n",
    "\n",
    "model = rfm.RFM()\n",
    "model = model.fit(X_train, y_train, num_iters=5, reg=0, centering=True, verbose=True)"
   ]
  },
  {
   "cell_type": "code",
   "execution_count": 3,
   "id": "dff8f0fb",
   "metadata": {},
   "outputs": [
    {
     "name": "stdout",
     "output_type": "stream",
     "text": [
      "Val R2:  0.9982\n",
      "Test r2:  0.9603\n"
     ]
    }
   ],
   "source": [
    "from sklearn.metrics import r2_score\n",
    "\n",
    "val_preds = model.predict(X_val)\n",
    "val_r2 = r2_score(y_val.reshape(-1), val_preds.reshape(-1))\n",
    "\n",
    "preds = model.predict(X_test)\n",
    "test_r2 = r2_score(y_test.reshape(-1), preds.reshape(-1))\n",
    "print(\"Val R2: \", round(val_r2, 4))\n",
    "print(\"Test r2: \", round(test_r2, 4))"
   ]
  },
  {
   "cell_type": "code",
   "execution_count": 4,
   "id": "d29e58af",
   "metadata": {},
   "outputs": [
    {
     "data": {
      "image/png": "[encoded data removed]",
      "text/plain": [
       "<Figure size 640x480 with 1 Axes>"
      ]
     },
     "metadata": {},
     "output_type": "display_data"
    },
    {
     "data": {
      "image/png": "[encoded data removed]",
      "text/plain": [
       "<Figure size 640x480 with 1 Axes>"
      ]
     },
     "metadata": {},
     "output_type": "display_data"
    },
    {
     "data": {
      "image/png": "[encoded data removed]",
      "text/plain": [
       "<Figure size 640x480 with 2 Axes>"
      ]
     },
     "metadata": {},
     "output_type": "display_data"
    }
   ],
   "source": [
    "import matplotlib.pyplot as plt\n",
    "from numpy.linalg import svd\n",
    "\n",
    "M = model.get_M()\n",
    "U, s, Vt = svd(M)\n",
    "u = U[:, 0:1]\n",
    "plt.imshow(M, cmap='Greys')\n",
    "plt.show()\n",
    "\n",
    "plt.plot(list(np.arange(len(s))), s, 'ko')\n",
    "plt.show()\n",
    "\n",
    "plt.imshow(u, cmap='Greys')\n",
    "ax = plt.gca()\n",
    "ax.get_xaxis().set_visible(False)\n",
    "plt.colorbar()\n",
    "plt.show()"
   ]
  },
  {
   "cell_type": "code",
   "execution_count": 5,
   "id": "c1306c48",
   "metadata": {},
   "outputs": [],
   "source": [
    "model_t = rfm.RFM()\n",
    "model_t = model_t.fit(X_train @ u, y_train, num_iters=0, reg=0, centering=True, verbose=False)"
   ]
  },
  {
   "cell_type": "code",
   "execution_count": 6,
   "id": "310b1353",
   "metadata": {},
   "outputs": [
    {
     "name": "stdout",
     "output_type": "stream",
     "text": [
      "Val R2:  0.9961\n",
      "Test r2:  0.9635\n"
     ]
    }
   ],
   "source": [
    "from sklearn.metrics import r2_score\n",
    "\n",
    "val_preds = model_t.predict(X_val @ u)\n",
    "val_r2 = r2_score(y_val.reshape(-1), val_preds.reshape(-1))\n",
    "\n",
    "preds = model_t.predict(X_test @ u)\n",
    "test_r2 = r2_score(y_test.reshape(-1), preds.reshape(-1))\n",
    "print(\"Val R2: \", round(val_r2, 4))\n",
    "print(\"Test r2: \", round(test_r2, 4))"
   ]
  },
  {
   "cell_type": "code",
   "execution_count": null,
   "id": "227d0d80",
   "metadata": {},
   "outputs": [],
   "source": []
  }
 ],
 "metadata": {
  "kernelspec": {
   "display_name": "Python 3 (ipykernel)",
   "language": "python",
   "name": "python3"
  },
  "language_info": {
   "codemirror_mode": {
    "name": "ipython",
    "version": 3
   },
   "file_extension": ".py",
   "mimetype": "text/x-python",
   "name": "python",
   "nbconvert_exporter": "python",
   "pygments_lexer": "ipython3",
   "version": "3.7.15"
  }
 },
 "nbformat": 4,
 "nbformat_minor": 5
}
