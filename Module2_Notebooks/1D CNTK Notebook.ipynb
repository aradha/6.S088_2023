{
 "cells": [
  {
   "cell_type": "markdown",
   "id": "0af69b56",
   "metadata": {},
   "source": [
    "In this notebook we compare performance of the NTK, FC-CNTK, and GAP-CNTK on the dataset considered in the lecture. We begin by building this dataset. "
   ]
  },
  {
   "cell_type": "code",
   "execution_count": 1,
   "id": "5a9afb33",
   "metadata": {},
   "outputs": [],
   "source": [
    "import numpy as np\n",
    "\n",
    "SEED = 32\n",
    "np.random.seed(SEED)\n",
    "\n",
    "d = 100\n",
    "\n",
    "def sample_conv_data(num_samples, train=True):\n",
    "    X = np.zeros((num_samples, d))\n",
    "    window_size = 3\n",
    "    if train:\n",
    "        pos = np.random.choice(list(np.arange(d//4)), size=num_samples//2, replace=False)\n",
    "        for idx, p in enumerate(pos):\n",
    "            X[idx, p-window_size//2:p+window_size//2 +1] = 1.\n",
    "        pos = np.random.choice(list(np.arange(d//4)), size=num_samples//2, replace=False)\n",
    "        for idx, p in enumerate(pos):\n",
    "            X[num_samples//2+idx, p-window_size//2:p+window_size//2 +1] = -1.\n",
    "        y = np.ones((num_samples, 1))\n",
    "        y[num_samples//2:] *= -1\n",
    "    else:\n",
    "        pos = np.random.choice(list(np.arange(d//4, d)), size=num_samples//2, replace=False) \n",
    "        for idx, p in enumerate(pos):\n",
    "            X[idx, p-window_size//2:p+window_size//2 +1] = 1.\n",
    "        pos = np.random.choice(list(np.arange(d//4, d)), size=num_samples//2, replace=False) \n",
    "        for idx, p in enumerate(pos):\n",
    "            X[num_samples//2 + idx, p-window_size//2:p+window_size//2 +1] = -1.\n",
    "        y = np.ones((num_samples, 1))\n",
    "        y[num_samples//2:] *= -1\n",
    "    return X, y\n",
    "\n",
    "X_train, y_train = sample_conv_data(num_samples=10, train=True)\n",
    "X_test, y_test = sample_conv_data(num_samples=50, train=False)"
   ]
  },
  {
   "cell_type": "markdown",
   "id": "886c3b57",
   "metadata": {},
   "source": [
    "The dataset consists of 100 dimensional vectors where there is a small strip colored red or blue indicating the class label.  The training data has these colors appearing on the left side of the vector and the test data has the strips appearing on the right side of the vector.  "
   ]
  },
  {
   "cell_type": "code",
   "execution_count": 2,
   "id": "99619941",
   "metadata": {},
   "outputs": [
    {
     "data": {
      "image/png": "[encoded data removed]",
      "text/plain": [
       "<Figure size 640x480 with 2 Axes>"
      ]
     },
     "metadata": {},
     "output_type": "display_data"
    },
    {
     "data": {
      "image/png": "[encoded data removed]",
      "text/plain": [
       "<Figure size 640x480 with 2 Axes>"
      ]
     },
     "metadata": {},
     "output_type": "display_data"
    }
   ],
   "source": [
    "import matplotlib.pyplot as plt\n",
    "\n",
    "plt.imshow(X_train, cmap='coolwarm')\n",
    "plt.axis('off')\n",
    "plt.colorbar()\n",
    "plt.show()\n",
    "\n",
    "plt.imshow(X_test, cmap='coolwarm')\n",
    "plt.axis('off')\n",
    "plt.colorbar()\n",
    "plt.show()"
   ]
  },
  {
   "cell_type": "markdown",
   "id": "4741f68d",
   "metadata": {},
   "source": [
    "While fully connected nets and the NTK cannot generalize on this task, we show that GAP-CNTKs can generalize.  We implement the FC-CNTK and GAP-CNTK below. "
   ]
  },
  {
   "cell_type": "code",
   "execution_count": 4,
   "id": "1fd1d0a6",
   "metadata": {},
   "outputs": [],
   "source": [
    "from patchify import patchify \n",
    "\n",
    "def relu_ntk(pair1, pair2):\n",
    "\n",
    "    out = pair1 @ pair2.transpose(1, 0) + 1\n",
    "    N1 = np.sum(np.power(pair1, 2), axis=-1).reshape(-1, 1) + 1\n",
    "    N2 = np.sum(np.power(pair2, 2), axis=-1).reshape(-1, 1) + 1\n",
    "\n",
    "    XX = np.sqrt(N1 @ N2.transpose(1, 0))\n",
    "    out = out / XX\n",
    "\n",
    "    out = np.clip(out, -1, 1)\n",
    "    out = np.nan_to_num(out)\n",
    "    first = 1/np.pi * (out * (np.pi - np.arccos(out)) \\\n",
    "                       + np.sqrt(1. - np.power(out, 2))) * XX\n",
    "    sec = 1/np.pi * out * (np.pi - np.arccos(out)) * XX\n",
    "    out = first + sec\n",
    "    return out, first, sec\n",
    "\n",
    "def get_patches(X, window=3):\n",
    "    X_patches = []\n",
    "    for i in range(len(X)):\n",
    "        patches = patchify(X[i], (window), 1)\n",
    "        X_patches.append(patches)\n",
    "    X_patches = np.array(X_patches)\n",
    "    return X_patches\n",
    "\n",
    "def zero_pad(X, window=3):\n",
    "    n, d = X.shape\n",
    "    X_padded = np.zeros((n, d+(window-1)//2 + 1))\n",
    "    X_padded[:, (window-1)//2:d+(window-1)//2] = X    \n",
    "    return X_padded\n",
    "\n",
    "def cntk(X, Z, window=3, gap=True):\n",
    "    n, d = X.shape\n",
    "    X = zero_pad(X)\n",
    "    Z = zero_pad(Z)\n",
    "    \n",
    "    X_patches = get_patches(X, window=window)\n",
    "    Z_patches = get_patches(Z, window=window)\n",
    "    nx, bx, cx = X_patches.shape\n",
    "    nz, bz, cz = Z_patches.shape\n",
    "    \n",
    "    X_patches = X_patches.reshape(nx * bx, cx)\n",
    "    Z_patches = Z_patches.reshape(nz * bz, cz)\n",
    "    _, _, K = relu_ntk(X_patches, Z_patches)\n",
    "    K = K.reshape(nx, bx, nz, bz)\n",
    "    K = np.rollaxis(K, 1, 3)\n",
    "    if gap:\n",
    "        K = np.mean(K, axis=(2, 3))\n",
    "    else:\n",
    "        K = np.mean(K*np.eye(bx), axis=(2,3))\n",
    "    return K"
   ]
  },
  {
   "cell_type": "code",
   "execution_count": 5,
   "id": "c314177e",
   "metadata": {},
   "outputs": [],
   "source": [
    "from numpy.linalg import solve\n",
    "\n",
    "class ReLU_NTK():\n",
    "\n",
    "    def __init__(self, ntk=True):\n",
    "        self.sol = None\n",
    "        self.X_train = None\n",
    "        self.ntk = ntk\n",
    "        \n",
    "    def fit(self, X, y, reg=0):\n",
    "        self.X_train = X\n",
    "        N, S, _ = relu_ntk(self.X_train, self.X_train)\n",
    "        if self.ntk:\n",
    "            K = N\n",
    "        else: \n",
    "            K = S\n",
    "        sol = solve(K + reg * np.eye(len(K)), y).T\n",
    "        self.sol = sol\n",
    "        return self\n",
    "\n",
    "    def predict(self, X):\n",
    "        N, S, _ = relu_ntk(self.X_train, X)\n",
    "        if self.ntk: \n",
    "            K = N\n",
    "        else:\n",
    "            K = S\n",
    "        return (self.sol @ K).T"
   ]
  },
  {
   "cell_type": "code",
   "execution_count": 6,
   "id": "a26024fe",
   "metadata": {},
   "outputs": [],
   "source": [
    "class ReLU_CNTK():\n",
    "\n",
    "    def __init__(self, gap=True):\n",
    "        self.sol = None\n",
    "        self.X_train = None\n",
    "        self.gap = gap\n",
    "\n",
    "    def fit(self, X, y, reg=0):\n",
    "        self.X_train = X\n",
    "        K = cntk(self.X_train, self.X_train, gap=self.gap)\n",
    "        sol = solve(K + reg * np.eye(len(K)), y).T\n",
    "        self.sol = sol\n",
    "        return self\n",
    "\n",
    "    def predict(self, X):\n",
    "        K = cntk(self.X_train, X, gap=self.gap)\n",
    "        return (self.sol @ K).T"
   ]
  },
  {
   "cell_type": "code",
   "execution_count": 7,
   "id": "3c38f8c8",
   "metadata": {},
   "outputs": [
    {
     "name": "stdout",
     "output_type": "stream",
     "text": [
      "FC NTK Train Acc:  100.0 FC NTK Test Acc:  50.0\n"
     ]
    }
   ],
   "source": [
    "def get_acc(y_pred, y_true):\n",
    "    pred_sign = np.where(y_pred > 0, 1, -1)\n",
    "    true_sign = np.where(y_true > 0, 1, -1)\n",
    "    return np.mean(pred_sign == true_sign) * 100\n",
    "\n",
    "from sklearn.metrics import r2_score\n",
    "model = ReLU_NTK()\n",
    "model.fit(X_train, y_train, reg=1e-4)\n",
    "\n",
    "fc_train_preds = model.predict(X_train)\n",
    "fc_test_preds = model.predict(X_test)\n",
    "\n",
    "fc_train_acc = get_acc(fc_train_preds, y_train)\n",
    "fc_test_acc = get_acc(fc_test_preds, y_test)\n",
    "print(\"FC NTK Train Acc: \", fc_train_acc, \"FC NTK Test Acc: \", fc_test_acc)"
   ]
  },
  {
   "cell_type": "code",
   "execution_count": 10,
   "id": "42b11085",
   "metadata": {},
   "outputs": [
    {
     "name": "stdout",
     "output_type": "stream",
     "text": [
      "CNTK GAP Train Acc:  100.0 CNTK GAP Test Acc:  50.0\n"
     ]
    }
   ],
   "source": [
    "model = ReLU_CNTK(gap=False)\n",
    "model.fit(X_train, y_train, reg=1e-4)\n",
    "\n",
    "conv_train_preds = model.predict(X_train)\n",
    "conv_test_preds = model.predict(X_test)\n",
    "\n",
    "conv_train_acc = get_acc(conv_train_preds, y_train)\n",
    "conv_test_acc = get_acc(conv_test_preds, y_test)\n",
    "print(\"CNTK GAP Train Acc: \", conv_train_acc, \"CNTK GAP Test Acc: \", conv_test_acc)"
   ]
  },
  {
   "cell_type": "code",
   "execution_count": null,
   "id": "5e1d8c84",
   "metadata": {},
   "outputs": [],
   "source": []
  }
 ],
 "metadata": {
  "kernelspec": {
   "display_name": "Python 3 (ipykernel)",
   "language": "python",
   "name": "python3"
  },
  "language_info": {
   "codemirror_mode": {
    "name": "ipython",
    "version": 3
   },
   "file_extension": ".py",
   "mimetype": "text/x-python",
   "name": "python",
   "nbconvert_exporter": "python",
   "pygments_lexer": "ipython3",
   "version": "3.7.15"
  }
 },
 "nbformat": 4,
 "nbformat_minor": 5
}
